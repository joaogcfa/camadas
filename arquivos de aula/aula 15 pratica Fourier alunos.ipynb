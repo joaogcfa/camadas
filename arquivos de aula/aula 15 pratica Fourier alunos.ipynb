{
 "cells": [
  {
   "cell_type": "markdown",
   "metadata": {},
   "source": [
    "Camada Física da Computação 2020/2\n",
    "\n",
    "### Aula 15  - **Prática em Fourier** \n",
    "#### Essa atividade servirá como base para o início do próximo projeto - DTMF\n",
    "\n",
    "\n",
    "Rodrigo Carareto rodrigoc5@insper.edu.br"
   ]
  },
  {
   "cell_type": "code",
   "execution_count": 1,
   "metadata": {},
   "outputs": [],
   "source": [
    "%matplotlib inline\n",
    "import matplotlib.pyplot as plt\n",
    "import numpy as np\n",
    "from scipy import signal\n",
    "from scipy.fftpack import fft, fftshift"
   ]
  },
  {
   "cell_type": "markdown",
   "metadata": {},
   "source": [
    "As funções a seguir servirão de apoio para construção de senoides e obtenção da transformada discreta de Fourier"
   ]
  },
  {
   "cell_type": "code",
   "execution_count": 2,
   "metadata": {},
   "outputs": [],
   "source": [
    "def generateSin(freq, time, fs):\n",
    "    n = time*fs #numero de pontos\n",
    "    x = np.linspace(0.0, time, n)  # eixo do tempo\n",
    "    s = np.sin(freq*x*2*np.pi)\n",
    "    return (x, s)"
   ]
  },
  {
   "cell_type": "code",
   "execution_count": 3,
   "metadata": {},
   "outputs": [],
   "source": [
    "def calcFFT(signal, fs):\n",
    "    # https://docs.scipy.org/doc/scipy/reference/tutorial/fftpack.html\n",
    "    #y  = np.append(signal, np.zeros(len(signal)*fs))\n",
    "    N  = len(signal)\n",
    "    T  = 1/fs\n",
    "    xf = np.linspace(-1.0/(2.0*T), 1.0/(2.0*T), N)\n",
    "    yf = fft(signal)\n",
    "    return(xf, fftshift(yf))"
   ]
  },
  {
   "cell_type": "markdown",
   "metadata": {},
   "source": [
    "## Propriedades dos sinais \n",
    "Vamos adotar as seguintes propriedades:"
   ]
  },
  {
   "cell_type": "code",
   "execution_count": 4,
   "metadata": {},
   "outputs": [],
   "source": [
    "fs  = 200   # pontos por segundo (frequência de amostragem)\n",
    "A   = 1.5   # Amplitude\n",
    "F   = 1     # Hz\n",
    "T   = 4     # Tempo em que o seno será gerado\n",
    "t   = np.linspace(-T/2,T/2,T*fs)"
   ]
  },
  {
   "cell_type": "markdown",
   "metadata": {},
   "source": [
    "# Prática em Fourier"
   ]
  },
  {
   "cell_type": "markdown",
   "metadata": {},
   "source": [
    "## Senoide única\n",
    "\n",
    " - Gere uma senoide de 5Hz. \n",
    " - Exiba o sinal no tempo e o Fourier do mesmo (módulo e fase). Lembre-se de que a transformada retorna uma lista de complexos!\n",
    " - Analíse a composição espectal desse sinal.\n"
   ]
  },
  {
   "cell_type": "code",
   "execution_count": 19,
   "metadata": {
    "scrolled": true
   },
   "outputs": [
    {
     "name": "stderr",
     "output_type": "stream",
     "text": [
      "C:\\anaconda\\lib\\site-packages\\ipykernel_launcher.py:7: UserWarning: In Matplotlib 3.3 individual lines on a stem plot will be added as a LineCollection instead of individual lines. This significantly improves the performance of a stem plot. To remove this warning and switch to the new behaviour, set the \"use_line_collection\" keyword argument to True.\n",
      "  import sys\n"
     ]
    },
    {
     "data": {
      "text/plain": [
       "<StemContainer object of 3 artists>"
      ]
     },
     "execution_count": 19,
     "metadata": {},
     "output_type": "execute_result"
    },
    {
     "data": {
      "image/png": "[encoded data removed]",
      "text/plain": [
       "<Figure size 432x288 with 1 Axes>"
      ]
     },
     "metadata": {
      "needs_background": "light"
     },
     "output_type": "display_data"
    }
   ],
   "source": [
    "x, y = generateSin(5,T,fs)\n",
    "plt.figure()\n",
    "plt.plot(t,y, '.-')\n",
    "\n",
    "X, Y = calcFFT(y,fs)\n",
    "# plt.figure()\n",
    "plt.stem(X,np.abs(Y))\n"
   ]
  },
  {
   "cell_type": "markdown",
   "metadata": {},
   "source": [
    "## Senoides \n",
    "\n",
    " - Gere duas senoide de mesma amplitude e frequência 5Hz e 8Hz\n",
    " - Exiba o sinal no tempo e o Fourier do mesmo (módulo)\n",
    " - Analíse a composição espectal desse sinal.\n",
    " \n"
   ]
  },
  {
   "cell_type": "code",
   "execution_count": null,
   "metadata": {},
   "outputs": [],
   "source": [
    "\n",
    "\n"
   ]
  },
  {
   "cell_type": "markdown",
   "metadata": {},
   "source": [
    "## Onda Quadrada nivel DC = 0\n",
    "\n",
    " - Gere uma onda quadrada em torno do eixo X de amplitude 3 e frequência 1Hz \n",
    "     - dica : signal.square   \n",
    " - Exiba o sinal no tempo e o Fourier do mesmo (módulo e fase)\n",
    " - Analíse a composição espectal desse sinal\n"
   ]
  },
  {
   "cell_type": "code",
   "execution_count": null,
   "metadata": {},
   "outputs": [],
   "source": [
    "\n",
    "\n"
   ]
  },
  {
   "cell_type": "markdown",
   "metadata": {},
   "source": [
    "## Pulso\n",
    "\n",
    " - Gere um pulso em torno da origem de duração (1.5s, 1s, 0.5s, 0.025s)\n",
    "     - dica : signal.square \n",
    " - Exiba o sinal no tempo e o Fourier dos sinais (módulo )\n",
    " - Analíse a composição espectal dos pulsos (com duração distintas)\n",
    " - Calcule as bandas dos sinais\n",
    "\n",
    "\n"
   ]
  },
  {
   "cell_type": "code",
   "execution_count": null,
   "metadata": {},
   "outputs": [],
   "source": [
    "\n",
    "\n"
   ]
  },
  {
   "cell_type": "markdown",
   "metadata": {
    "scrolled": false
   },
   "source": [
    "## FFT PYTHON\n",
    "Vamos testar o algoritmo FFT do python e a função de localizar picos. Para isso, inicialmente, grave um arquivo de audio de poucos segundos. Em seguida, importe e execute esse audio. Altere a taxa de amostragem e veja o que ocorre. Tente entender."
   ]
  },
  {
   "cell_type": "code",
   "execution_count": 8,
   "metadata": {},
   "outputs": [],
   "source": [
    "from suaBibSignal import *\n",
    "import numpy as np\n",
    "import sounddevice as sd\n",
    "import matplotlib.pyplot as plt\n",
    "import soundfile   as sf\n",
    "\n",
    "\n",
    "#leituara do arquivo audio\n",
    "fs = 44100   # taxqa de amostagem (sample rate)\n",
    "sd.default.samplerate = fs\n",
    "sd.default.channels = 1\n",
    "audio, samplerate = sf.read('camFis.wav')\n",
    "yAudio = audio[:,1]\n",
    "samplesAudio = len(yAudio)\n",
    "sd.play(audio)\n",
    "sd.wait()\n",
    "\n",
    "\n"
   ]
  },
  {
   "cell_type": "markdown",
   "metadata": {},
   "source": [
    "Plot o gráfico do sinal no tempo. "
   ]
  },
  {
   "cell_type": "code",
   "execution_count": null,
   "metadata": {},
   "outputs": [],
   "source": [
    "\n"
   ]
  },
  {
   "cell_type": "markdown",
   "metadata": {},
   "source": [
    "Obtenha transformada de Fourier do arquivo, mostre o gráfico dos módulos."
   ]
  },
  {
   "cell_type": "code",
   "execution_count": 11,
   "metadata": {},
   "outputs": [],
   "source": [
    "X, Y = calcFFT(yAudio, samplerate)\n"
   ]
  },
  {
   "cell_type": "markdown",
   "metadata": {},
   "source": [
    "Obtenha as 5 frequências mais presentes na composição do sinal utilizando a função \"peakutils.indexes\". Essa função retorna os valores dos picos e a posição onde eles ocorrem. Você deverá encontrar q frequência relativa à posição de cada pico. Por exemplo, se você obteve um pico no index 42, isso significa que a posição 42 na lista de freqências (eixo x) é uma frequência muito presente no sinal (pico). Altere e entenda os argumentos da função: threshold e distância mínima. Eles servem para alterar a sensibilidade sobre o que pode ser considerado pico e qual a distância minima entre dois picos, respectivamente."
   ]
  },
  {
   "cell_type": "code",
   "execution_count": 12,
   "metadata": {},
   "outputs": [
    {
     "ename": "SyntaxError",
     "evalue": "invalid syntax (<ipython-input-12-317454fc6f1c>, line 2)",
     "output_type": "error",
     "traceback": [
      "\u001b[1;36m  File \u001b[1;32m\"<ipython-input-12-317454fc6f1c>\"\u001b[1;36m, line \u001b[1;32m2\u001b[0m\n\u001b[1;33m    Y =  ****fourier resposta\u001b[0m\n\u001b[1;37m          ^\u001b[0m\n\u001b[1;31mSyntaxError\u001b[0m\u001b[1;31m:\u001b[0m invalid syntax\n"
     ]
    }
   ],
   "source": [
    "import peakutils\n",
    "Y =  ****fourier resposta\n",
    "X =  *** frequencias\n",
    "index = peakutils.indexes(np.abs(Y), thres=0.8, min_dist=50)\n",
    "print(\"index de picos {}\" .format(index))\n",
    "for freq in X[index]:\n",
    "    print(\"freq de pico sao {}\" .format(freq))\n"
   ]
  },
  {
   "cell_type": "code",
   "execution_count": null,
   "metadata": {},
   "outputs": [],
   "source": []
  },
  {
   "cell_type": "code",
   "execution_count": null,
   "metadata": {},
   "outputs": [],
   "source": []
  }
 ],
 "metadata": {
  "kernelspec": {
   "display_name": "Python 3",
   "language": "python",
   "name": "python3"
  },
  "language_info": {
   "codemirror_mode": {
    "name": "ipython",
    "version": 3
   },
   "file_extension": ".py",
   "mimetype": "text/x-python",
   "name": "python",
   "nbconvert_exporter": "python",
   "pygments_lexer": "ipython3",
   "version": "3.7.4"
  }
 },
 "nbformat": 4,
 "nbformat_minor": 2
}
